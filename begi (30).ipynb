{
 "cells": [
  {
   "cell_type": "markdown",
   "id": "74f5bbf7",
   "metadata": {},
   "source": [
    "# Mavzu:Begin\n"
   ]
  },
  {
   "cell_type": "markdown",
   "id": "21a56e90",
   "metadata": {},
   "source": [
    " ## 1.Kvadratning tomoni a berilgan. Uning perimetri aniqlansin. P= 4- a .\n",
    "\n",
    "\n"
   ]
  },
  {
   "cell_type": "code",
   "execution_count": 5,
   "id": "13c9ccb4",
   "metadata": {},
   "outputs": [
    {
     "name": "stdout",
     "output_type": "stream",
     "text": [
      "Kvadratning tomonini kiriting : 2\n",
      "Kavadratning perimetri : 8\n"
     ]
    }
   ],
   "source": [
    "\n",
    "print(\"Kavadratning perimetri :\",int(input('Kvadratning tomonini kiriting : '))*4)"
   ]
  },
  {
   "cell_type": "markdown",
   "id": "bbc23260",
   "metadata": {},
   "source": [
    "## 2.Kvadratning tomoni a berilgan. Uning yuzasi aniqlansin. S = a^2"
   ]
  },
  {
   "cell_type": "code",
   "execution_count": 6,
   "id": "943b2588",
   "metadata": {},
   "outputs": [
    {
     "name": "stdout",
     "output_type": "stream",
     "text": [
      "Kvadratning tomoninin kiriting 5\n",
      "Kavdratnig yuzasi 25\n"
     ]
    }
   ],
   "source": [
    "\n",
    "print(\"Kavdratnig yuzasi\",int(input(\"Kvadratning tomoninin kiriting \"))**2)"
   ]
  },
  {
   "cell_type": "markdown",
   "id": "2b495ee6",
   "metadata": {},
   "source": [
    "## 3.To'g'ri to'rtburchakning tomonlari a va b berilgan. Uning yuzasi S = a * b; va P = 2 * (a + b) perimetri aniqlansin"
   ]
  },
  {
   "cell_type": "code",
   "execution_count": 8,
   "id": "93b98f10",
   "metadata": {},
   "outputs": [
    {
     "name": "stdout",
     "output_type": "stream",
     "text": [
      "a=2\n",
      "b=3\n",
      "To'rtbuchakning yuzasi: 6 \n",
      "To'rtburchakning perimetri: 10\n"
     ]
    }
   ],
   "source": [
    "# %load \"D:\\DATA PYTHON\\1-dars uyga vazifa\\3-topshiriq.py\"\n",
    "a = int(input(\"a=\"))#To'rtbuchakning a tomoni\n",
    "b = int(input(\"b=\"))# To'rtbuchakning b tomoni\n",
    "print(\"To'rtbuchakning yuzasi:\", a*b ,\"\\nTo'rtburchakning perimetri:\",(a+b)*2)"
   ]
  },
  {
   "cell_type": "markdown",
   "id": "01fbaed9",
   "metadata": {},
   "source": [
    "## 4.Aylananing diametri d berilgan. Uning uzunligi aniqlansin L = r*pi  pi = 3.14"
   ]
  },
  {
   "cell_type": "code",
   "execution_count": 11,
   "id": "9b5380f8",
   "metadata": {
    "scrolled": true
   },
   "outputs": [
    {
     "name": "stdout",
     "output_type": "stream",
     "text": [
      "Aylananing diametrinin kiriting:12\n",
      "Aylaning uzunligi: 37.7\n"
     ]
    }
   ],
   "source": [
    "# %load \"D:\\DATA PYTHON\\1-dars uyga vazifa\\4-topshiriq.py\"\n",
    "from cmath import pi\n",
    "\n",
    "\n",
    "print(\"Aylaning uzunligi:\",round(int(input(\"Aylananing diametrinin kiriting:\"))*pi,1))\n"
   ]
  },
  {
   "cell_type": "markdown",
   "id": "43a8af94",
   "metadata": {},
   "source": [
    "## 5.Kubning yon tomoni a berilgan. Uning hajmini V =a**3  va to'la sirti S = 6*a  aniqlansin."
   ]
  },
  {
   "cell_type": "code",
   "execution_count": 15,
   "id": "ebec4f86",
   "metadata": {
    "scrolled": true
   },
   "outputs": [
    {
     "name": "stdout",
     "output_type": "stream",
     "text": [
      "kubning yon tomonini kiriting:2\n",
      "Kubning hajmi: 8 \n",
      "Kubning to'la sirti: 24\n"
     ]
    }
   ],
   "source": [
    "# %load \"D:\\DATA PYTHON\\1-dars uyga vazifa\\5-topshiriq.py\"\n",
    "a = int(input(\"kubning yon tomonini kiriting:\"))\n",
    "print(\"Kubning hajmi:\",a**3,\"\\nKubning to'la sirti:\",6*a**2)"
   ]
  },
  {
   "cell_type": "markdown",
   "id": "3e1fc3f9",
   "metadata": {},
   "source": [
    "## 6.Paralelepepidning tomonlari a, b, c berilgan. Uning hajmini V=a•b-c va to'la sirti S = 2-(a*b+b*c+a*c) aniqlansin. "
   ]
  },
  {
   "cell_type": "code",
   "execution_count": 17,
   "id": "1cafa977",
   "metadata": {},
   "outputs": [
    {
     "name": "stdout",
     "output_type": "stream",
     "text": [
      "a tomonni kiriting:1\n",
      "b tomonni kiriting:2\n",
      "c tomonni kiriting:3\n",
      "Paralelogramning hajmi:  6 To'lasirti : 22\n"
     ]
    }
   ],
   "source": [
    "# %load \"D:\\DATA PYTHON\\1-dars uyga vazifa\\6-topshiriq.py\"\n",
    "a,b,c = int(input(\"a tomonni kiriting:\")),int(input(\"b tomonni kiriting:\")),int(input(\"c tomonni kiriting:\"))\n",
    "print(\"Paralelogramning hajmi: \",a*b*c,\"To'lasirti :\",2*(a*b+b*c+c*a))"
   ]
  },
  {
   "cell_type": "markdown",
   "id": "770a40d8",
   "metadata": {},
   "source": [
    "## 7.Doiraning radiusi R berilgan. Uning uzunligi L va yuzasi S aniqlansin."
   ]
  },
  {
   "cell_type": "code",
   "execution_count": 23,
   "id": "bb70ef25",
   "metadata": {},
   "outputs": [
    {
     "name": "stdout",
     "output_type": "stream",
     "text": [
      "Doira radiusini kiriting:2\n",
      "Doiraning uzunligi: 12.566370614359172 Yuzasi: 12.566370614359172\n"
     ]
    }
   ],
   "source": [
    "# %load \"D:\\DATA PYTHON\\1-dars uyga vazifa\\7-topshiriq.py\"\n",
    "from cmath import pi\n",
    "\n",
    "r = float(input(\"Doira radiusini kiriting:\"))\n",
    "print(\"Doiraning uzunligi:\",2*pi*r,\"Yuzasi:\",r**2*pi)"
   ]
  },
  {
   "cell_type": "markdown",
   "id": "83331ab2",
   "metadata": {},
   "source": [
    "## 8.Ikkita son a va b berilgan. Ularning o'rta arifmetigi aniqlansin.(a+b)/2"
   ]
  },
  {
   "cell_type": "code",
   "execution_count": 25,
   "id": "75635f95",
   "metadata": {},
   "outputs": [
    {
     "name": "stdout",
     "output_type": "stream",
     "text": [
      "1-son:12\n",
      "2-son:3\n",
      "Sonlarning o'rta arifmetigi: 7.5\n"
     ]
    }
   ],
   "source": [
    "# %load \"D:\\DATA PYTHON\\1-dars uyga vazifa\\8-topshiriq.py\"\n",
    "a,b = int(input(\"1-son:\")),int(input(\"2-son:\"))\n",
    "print(\"Sonlarning o'rta arifmetigi:\",(a+b)/2)\n"
   ]
  },
  {
   "cell_type": "markdown",
   "id": "690c29d9",
   "metadata": {},
   "source": [
    "## 9.Ikkita manfiy bolmagan son a va b berilgan. Ularning o'rta geometrigi aniqlansin. "
   ]
  },
  {
   "cell_type": "code",
   "execution_count": 30,
   "id": "cc7f39f0",
   "metadata": {},
   "outputs": [
    {
     "name": "stdout",
     "output_type": "stream",
     "text": [
      "1-son:4\n",
      "2-son:3\n",
      "Sonning o'rta geometrigi: 2.6457513110645907\n"
     ]
    }
   ],
   "source": [
    "# %load \"D:\\DATA PYTHON\\1-dars uyga vazifa\\9-topshiriq.py\"\n",
    "a,b= int(input(\"1-son:\")),int(input(\"2-son:\"))\n",
    "print(\"Sonning o'rta geometrigi:\",(a+b)**0.5)"
   ]
  },
  {
   "cell_type": "markdown",
   "id": "e0a1d510",
   "metadata": {},
   "source": [
    "## 10.Nolga teng bolmagan ikkita son berilgan. Ularning yig'indisini, ko'paytmasini va har binning kvadrati aniqlansin. "
   ]
  },
  {
   "cell_type": "code",
   "execution_count": 32,
   "id": "2e14dc25",
   "metadata": {},
   "outputs": [
    {
     "name": "stdout",
     "output_type": "stream",
     "text": [
      "1-son:12\n",
      "2-son:3\n",
      "2 ta sonning ko'patmasi:  36 \n",
      "2-ta sonning yig'indisi: 15 \n",
      "har biring kvadrati: 144 9\n"
     ]
    }
   ],
   "source": [
    "# %load \"D:\\DATA PYTHON\\1-dars uyga vazifa\\10-topshiriq.py\"\n",
    "a,b= int(input(\"1-son:\")),int(input(\"2-son:\"))\n",
    "print(\"2 ta sonning ko'patmasi: \",a*b,\"\\n2-ta sonning yig'indisi:\",a+b,\"\\nhar biring kvadrati:\",a**2,b**2)"
   ]
  },
  {
   "cell_type": "markdown",
   "id": "a31fcd2e",
   "metadata": {},
   "source": [
    "## 11. Nolga teng bolmagan ikkita son berilgan. Ularning yig'indisini, ko'paytmasini va har binning moduli aniqlansin. "
   ]
  },
  {
   "cell_type": "code",
   "execution_count": 34,
   "id": "dd4136ea",
   "metadata": {},
   "outputs": [
    {
     "name": "stdout",
     "output_type": "stream",
     "text": [
      "1-son:15\n",
      "2-son:2\n",
      "2 ta sonning ko'patmasi:  30 \n",
      "2-ta sonning yig'indisi: 17 \n",
      "har biring moduli: 15 2\n"
     ]
    }
   ],
   "source": [
    "# %load \"D:\\DATA PYTHON\\1-dars uyga vazifa\\11-topshiriq.py\"\n",
    "a,b= int(input(\"1-son:\")),int(input(\"2-son:\"))\n",
    "print(\"2 ta sonning ko'patmasi: \",a*b,\"\\n2-ta sonning yig'indisi:\",a+b,\"\\nhar biring moduli:\",abs(a),abs(b))"
   ]
  },
  {
   "cell_type": "markdown",
   "id": "9048018e",
   "metadata": {},
   "source": [
    "## 12.To'gri uchburchakning katetlari a va b berilgan. Uning gipotenuzasi c va perimetri P aniqlansin."
   ]
  },
  {
   "cell_type": "code",
   "execution_count": 38,
   "id": "2c093844",
   "metadata": {},
   "outputs": [
    {
     "name": "stdout",
     "output_type": "stream",
     "text": [
      "a tomonni kiriting:3\n",
      "b tomonni kiriting:4\n",
      "To'g'ri burchakli uchburchakning perimetri:  12.0\n"
     ]
    }
   ],
   "source": [
    "# %load \"D:\\DATA PYTHON\\1-dars uyga vazifa\\12-topshiriq.py\"\n",
    "a,b = int(input(\"a tomonni kiriting:\")),int(input(\"b tomonni kiriting:\"))\n",
    "c = (a**2+b**2)**0.5\n",
    "print(\"To'g'ri burchakli uchburchakning perimetri: \",a+b+c)"
   ]
  },
  {
   "cell_type": "markdown",
   "id": "5f85a138",
   "metadata": {},
   "source": [
    "## 13.Umumiy markazga ega bo'lgan ikkita aylana radiusi berilgan R1 ,R2 (R1>R2) ularning yuzalari va yuzalari ayirmasini toping."
   ]
  },
  {
   "cell_type": "code",
   "execution_count": 42,
   "id": "a585679a",
   "metadata": {},
   "outputs": [
    {
     "name": "stdout",
     "output_type": "stream",
     "text": [
      "1-Aylana radiusini kiriting:12\n",
      "2-Aylana radiusini kiriting:3\n",
      "Aylanalar ayirmasi: 28.259999999999998\n"
     ]
    }
   ],
   "source": [
    "# %load \"D:\\DATA PYTHON\\1-dars uyga vazifa\\13-topshiriq.py\"\n",
    "R1,R2 = int(input('1-Aylana radiusini kiriting:')), int(input('2-Aylana radiusini kiriting:'))\n",
    "S1,S2 = 3.14*R1,3.14*R2\n",
    "print(\"Aylanalar ayirmasi:\", S1-S2)"
   ]
  },
  {
   "cell_type": "markdown",
   "id": "9df923dc",
   "metadata": {},
   "source": [
    "## 14.Aylananing uzunligi L berilgan. Uning radiusi R va yuzasi S aniqlansin "
   ]
  },
  {
   "cell_type": "code",
   "execution_count": 44,
   "id": "bf792003",
   "metadata": {},
   "outputs": [
    {
     "name": "stdout",
     "output_type": "stream",
     "text": [
      "Aylana uzunligini kiriting:14\n",
      "Aylananing radiusi: 21 \n",
      "Aylananing yuzasi: 1519\n"
     ]
    }
   ],
   "source": [
    "# %load \"D:\\DATA PYTHON\\1-dars uyga vazifa\\14-topshiriq.py\"\n",
    "from cmath import pi\n",
    "\n",
    "L=int(input(\"Aylana uzunligini kiriting:\"))\n",
    "R=L/2*pi\n",
    "S=pi*R**2\n",
    "print(\"Aylananing radiusi:\",int(R),\"\\nAylananing yuzasi:\",int (S))"
   ]
  },
  {
   "cell_type": "markdown",
   "id": "8f54fab6",
   "metadata": {},
   "source": [
    "## 15.Aylananing yuzasi S berilgan. Uning diametri d va radiusi R aniqlansin"
   ]
  },
  {
   "cell_type": "code",
   "execution_count": 46,
   "id": "71954dac",
   "metadata": {},
   "outputs": [
    {
     "name": "stdout",
     "output_type": "stream",
     "text": [
      "Aylana yuzasini kiriting:12\n",
      "Aylananing diametri: 3.9088200952233594 \n",
      "Aylananing uzunligi: 12.279920495357862\n"
     ]
    }
   ],
   "source": [
    "# %load \"D:\\DATA PYTHON\\1-dars uyga vazifa\\15-topshiriq.py\"\n",
    "from cmath import pi\n",
    "import math\n",
    "S = int(input(\"Aylana yuzasini kiriting:\"))\n",
    "R = (S / pi)**0.5\n",
    "L =2*pi*R\n",
    "print(\"Aylananing diametri:\",2*R,\"\\nAylananing uzunligi:\",L) \n"
   ]
  },
  {
   "cell_type": "markdown",
   "id": "91f2042b",
   "metadata": {},
   "source": [
    "## 16.Sonlar o'qida ikkita nuqta orasidagi masofa aniqlansin. "
   ]
  },
  {
   "cell_type": "code",
   "execution_count": 49,
   "id": "1f0d1acf",
   "metadata": {},
   "outputs": [
    {
     "name": "stdout",
     "output_type": "stream",
     "text": [
      "X1 ni kiriting:12\n",
      "X2 ni kiriting:3\n",
      "Ikki nuqta orasidagi masofa: 9\n"
     ]
    }
   ],
   "source": [
    "# %load \"D:\\DATA PYTHON\\1-dars uyga vazifa\\16-topshiriq.py\"\n",
    "x1,x2 = int (input(\"X1 ni kiriting:\")),int (input(\"X2 ni kiriting:\"))\n",
    "print(\"Ikki nuqta orasidagi masofa:\",abs( x1-x2))"
   ]
  },
  {
   "cell_type": "markdown",
   "id": "62df9b85",
   "metadata": {},
   "source": [
    "## 17.Sonlar o'qida A, B, C nuqtalar berilgan. AC va BC kesmalarning uzunligini va kesmalar uzunligining yig'indisini topuvchi programma tuzilsin. "
   ]
  },
  {
   "cell_type": "code",
   "execution_count": 52,
   "id": "8ab652ce",
   "metadata": {},
   "outputs": [
    {
     "name": "stdout",
     "output_type": "stream",
     "text": [
      "A ni kiriting:12\n",
      "B ni kiriting:2\n",
      "C ni kiriting:3\n",
      "AC: 9 \n",
      "BC: 1 \n",
      "AB: 10 \n",
      "AC+BC: 10\n"
     ]
    }
   ],
   "source": [
    "# %load \"D:\\DATA PYTHON\\1-dars uyga vazifa\\17-topshiriq.py\"\n",
    "A,B,C = int(input(\"A ni kiriting:\")),int(input(\"B ni kiriting:\")),int(input(\"C ni kiriting:\"))\n",
    "AC, AB,BC= abs(A-C),abs(A-B),abs(B-C)\n",
    "ACBC = AC+BC\n",
    "print(\"AC:\",AC,\"\\nBC:\",BC,\"\\nAB:\",AB,\"\\nAC+BC:\",ACBC)"
   ]
  },
  {
   "cell_type": "markdown",
   "id": "a455e188",
   "metadata": {},
   "source": [
    "## 18.Sonlar o'qida A, B, C nuqtalar berilgan. C nuqta A va B nuqtalar orasida joylashgan. AC va BC kesmalar uzunligining ko'paytmasini toping. "
   ]
  },
  {
   "cell_type": "code",
   "execution_count": 55,
   "id": "a886a7d1",
   "metadata": {},
   "outputs": [
    {
     "name": "stdout",
     "output_type": "stream",
     "text": [
      "A ni kiriting:15\n",
      "B ni kiriting:2\n",
      "C ni kiriting:6\n",
      "AC: 9.0 \n",
      "BC 4.0 \n",
      "AC*BC 36.0\n"
     ]
    }
   ],
   "source": [
    "# %load \"D:\\DATA PYTHON\\1-dars uyga vazifa\\18-topshiriq.py\"\n",
    "A,B,C = float(input(\"A ni kiriting:\")),float(input(\"B ni kiriting:\")),float(input(\"C ni kiriting:\"))\n",
    "AC ,BC = abs(C-A),abs(C-B)\n",
    "ACBC = AC * BC\n",
    "print(\"AC:\",AC,\"\\nBC\",BC,\"\\nAC*BC\",ACBC)"
   ]
  },
  {
   "cell_type": "markdown",
   "id": "870c161c",
   "metadata": {},
   "source": [
    "## 19.To'g'ri to'rtburchakning qarama-qarshi uchlari koordinatlari berilgan. Uning tomonlari koordinata o'qiga parallel. To'g'ri to'rtburchakning perimetri va yuzasi aniqlansin. "
   ]
  },
  {
   "cell_type": "code",
   "execution_count": 57,
   "id": "5f198751",
   "metadata": {},
   "outputs": [
    {
     "name": "stdout",
     "output_type": "stream",
     "text": [
      "x1:12\n",
      "x2:2\n",
      "y1:10\n",
      "y2:2\n",
      "1-tomoni: 10.0 \n",
      "2-tomoni: 8.0 \n",
      "Perimetri: 36.0 \n",
      "Yuzasi: 80.0\n"
     ]
    }
   ],
   "source": [
    "# %load \"D:\\DATA PYTHON\\1-dars uyga vazifa\\19-topshiriq.py\"\n",
    "x1,x2,y1,y2 = float(input(\"x1:\")),float(input(\"x2:\")),float(input(\"y1:\")),float(input(\"y2:\"))\n",
    "tomon_uzunligi1 ,tomon_uzunligi2 = abs(x1-x2),abs(y1-y2) \n",
    "P,S=2*(tomon_uzunligi1+tomon_uzunligi2),tomon_uzunligi1*tomon_uzunligi2\n",
    "print(\"1-tomoni:\",tomon_uzunligi1,\"\\n2-tomoni:\",tomon_uzunligi2,\"\\nPerimetri:\",P,\"\\nYuzasi:\",S)"
   ]
  },
  {
   "cell_type": "markdown",
   "id": "3d79fa20",
   "metadata": {},
   "source": [
    "## 20.Tekislikdagi berilgan ikki nuqta va orasidagi masofa topilsin. "
   ]
  },
  {
   "cell_type": "code",
   "execution_count": 59,
   "id": "f4a2cf4c",
   "metadata": {},
   "outputs": [
    {
     "name": "stdout",
     "output_type": "stream",
     "text": [
      "x1:12\n",
      "y1:52\n",
      "x2:65\n",
      "y2:12\n",
      "Masofa: 66.40030120413611\n"
     ]
    }
   ],
   "source": [
    "# %load \"D:\\DATA PYTHON\\1-dars uyga vazifa\\20-topshiriq.py\"\n",
    "\n",
    "x1,y1,x2,y2 = float(input(\"x1:\")),float(input(\"y1:\")),float(input(\"x2:\")),float(input(\"y2:\"))\n",
    "print(\"Masofa:\",((x1 - x2)**2 + (y1 - y2)**2)**0.5)"
   ]
  },
  {
   "cell_type": "markdown",
   "id": "79df4a8f",
   "metadata": {},
   "source": [
    "## 21.Uchburchakning uchta tomoni uchlari koordinatlari berilgan. Ikki nuqta orasidagi masofani topish Begin20 da berilgan. Uchburchakning yuzasini va perimatrini toping."
   ]
  },
  {
   "cell_type": "code",
   "execution_count": 63,
   "id": "a92d69be",
   "metadata": {},
   "outputs": [
    {
     "name": "stdout",
     "output_type": "stream",
     "text": [
      "x1:1\n",
      "y1:2\n",
      "x2:5\n",
      "y2:8\n",
      "x3:-6\n",
      "y3:6\n",
      "Uchburchakning yuzasi: 420.5000000000001 \n",
      "Perimetri: 26.453700186725477\n",
      "7.211102550927978 8.06225774829855 11.180339887498949\n"
     ]
    }
   ],
   "source": [
    "# %load \"D:\\DATA PYTHON\\1-dars uyga vazifa\\21-topshiriq.py\"\n",
    "\n",
    "x1,y1,x2,y2 ,x3,y3= float(input(\"x1:\")),float(input(\"y1:\")),float(input(\"x2:\")),float(input(\"y2:\")),float(input(\"x3:\")),float(input(\"y3:\"))\n",
    "a,b,c = (((x1-x2)**2)+(y1-y2)**2)**0.5,(((x1-x3)**2)+((y1-y3)**2))**0.5,(((x2-x3)**2)+((y2-y3)**2))**0.5\n",
    "P=a+b+c\n",
    "p=P/2\n",
    "S=(p*(p-a)*(p-b)*(p-c))*0.5\n",
    "print(\"Uchburchakning yuzasi:\",S,\"\\nPerimetri:\",P)\n",
    "print(a,b,c)"
   ]
  },
  {
   "cell_type": "markdown",
   "id": "daae8255",
   "metadata": {},
   "source": [
    "## 22.Berilgan A va B sonlarining qiymatlarini almashtiring. A va B ning yangi qiymati ekranga chiqarilsin."
   ]
  },
  {
   "cell_type": "code",
   "execution_count": 65,
   "id": "3665d096",
   "metadata": {},
   "outputs": [
    {
     "name": "stdout",
     "output_type": "stream",
     "text": [
      " A:2\n",
      " B:3\n",
      "A: 3.0 \n",
      "B: 2.0\n"
     ]
    }
   ],
   "source": [
    "# %load \"D:\\DATA PYTHON\\1-dars uyga vazifa\\22-topshiriq.py\"\n",
    "A,B = float(input(\" A:\")),float(input(\" B:\"))\n",
    "A,B= B,A\n",
    "print(\"A:\",A,\"\\nB:\",B)"
   ]
  },
  {
   "cell_type": "markdown",
   "id": "562076ec",
   "metadata": {},
   "source": [
    "## 23. A, B va C sonlari berilgan. A ni qiymati B ga, B ni qiymati C ga va C ni qiymati A ga almashtirilsin. A, B va C ning yangi qiymatilari ekranga chiqarilsin. "
   ]
  },
  {
   "cell_type": "code",
   "execution_count": 67,
   "id": "d30b14c5",
   "metadata": {},
   "outputs": [
    {
     "name": "stdout",
     "output_type": "stream",
     "text": [
      " A:1\n",
      " B:2\n",
      " C:3\n",
      "A: 3.0 \n",
      "B: 1.0 \n",
      "C: 2.0\n"
     ]
    }
   ],
   "source": [
    "# %load \"D:\\DATA PYTHON\\1-dars uyga vazifa\\23-topshiriq.py\"\n",
    "A,B,C = float(input(\" A:\")),float(input(\" B:\")),float(input(\" C:\"))\n",
    "A,B = B,A\n",
    "A,C = C,A\n",
    "print(\"A:\",A,\"\\nB:\",B,\"\\nC:\",C)"
   ]
  },
  {
   "cell_type": "markdown",
   "id": "3dbae815",
   "metadata": {},
   "source": [
    "## 24.A, B va C sonlari berilgan. A ni qiymati C ga, C ni qiymati B ga va B ni qiymati A ga almashtirilsin. A, B va C ning yangi qiymatilari ekranga chiqarilsin. "
   ]
  },
  {
   "cell_type": "code",
   "execution_count": 69,
   "id": "1760489f",
   "metadata": {},
   "outputs": [
    {
     "name": "stdout",
     "output_type": "stream",
     "text": [
      " A:12\n",
      " B:32\n",
      " C:11\n",
      "A: 32.0 \n",
      "B: 11.0 \n",
      "C: 12.0\n"
     ]
    }
   ],
   "source": [
    "# %load \"D:\\DATA PYTHON\\1-dars uyga vazifa\\24-topshiriq.py\"\n",
    "A,B,C = float(input(\" A:\")),float(input(\" B:\")),float(input(\" C:\"))\n",
    "A,C = C,A\n",
    "A,B = B,A\n",
    "print(\"A:\",A,\"\\nB:\",B,\"\\nC:\",C)"
   ]
  },
  {
   "cell_type": "markdown",
   "id": "9a5be235",
   "metadata": {},
   "source": [
    "## 25. x ning qiymati berilganda \\begin{equation*}Y= 3x^6-6x^2 - 7 \\end{equation*} funksiyaning qiymati aniqlansin."
   ]
  },
  {
   "cell_type": "code",
   "execution_count": 71,
   "id": "27495013",
   "metadata": {},
   "outputs": [
    {
     "name": "stdout",
     "output_type": "stream",
     "text": [
      "x=2\n",
      "Y= 161\n"
     ]
    }
   ],
   "source": [
    "# %load \"D:\\DATA PYTHON\\1-dars uyga vazifa\\25-topshiriq.py\"\n",
    "x = int(input(\"x=\"))\n",
    "print(\"Y=\",3*x**6 - 6*x**2 - 7)"
   ]
  },
  {
   "cell_type": "markdown",
   "id": "6d682301",
   "metadata": {},
   "source": [
    "## 26. x ning qiymati berilganda \\begin{equation*} Y=4(x-3)^3-7(x-3)^3+2 \\end{equation*}funksiyaning qiymati aniqlansin."
   ]
  },
  {
   "cell_type": "code",
   "execution_count": 75,
   "id": "730f9dba",
   "metadata": {},
   "outputs": [
    {
     "name": "stdout",
     "output_type": "stream",
     "text": [
      "x=2\n",
      "y= 5\n"
     ]
    }
   ],
   "source": [
    "# %load \"D:\\DATA PYTHON\\1-dars uyga vazifa\\26-topshiriq.py\"\n",
    "x = int(input(\"x=\"))\n",
    "print(\"y=\",4*(x-3)**3 - 7*(x-3)**3 + 2)"
   ]
  },
  {
   "cell_type": "markdown",
   "id": "b3440db8",
   "metadata": {},
   "source": [
    "## 27.A soni berilgan. A ning \\begin{equation*} A^2,A^4,A^8 \\end{equation*}darajalarini aniqlovchi programma tuzilsin. "
   ]
  },
  {
   "cell_type": "code",
   "execution_count": 79,
   "id": "616a58d2",
   "metadata": {},
   "outputs": [
    {
     "name": "stdout",
     "output_type": "stream",
     "text": [
      "A sonni kiriting:2\n",
      "A^2= 4 \n",
      "A^4= 16 \n",
      "A^8= 256\n"
     ]
    }
   ],
   "source": [
    "# %load \"D:\\DATA PYTHON\\1-dars uyga vazifa\\27-topshiriq.py\"\n",
    "A=int(input(\"A sonni kiriting:\"))\n",
    "print(\"A^2=\",A**2,\"\\nA^4=\",A**4,\"\\nA^8=\",A**8)"
   ]
  },
  {
   "cell_type": "markdown",
   "id": "8dd3dd34",
   "metadata": {},
   "source": [
    "## 28.A soni berilgan. A ning \\begin{equation*} A^2,A^3,A^5,A^10,A^15 \\end{equation*}aniqlovchi programma tuzilsin. "
   ]
  },
  {
   "cell_type": "code",
   "execution_count": 82,
   "id": "a78df7e9",
   "metadata": {},
   "outputs": [
    {
     "name": "stdout",
     "output_type": "stream",
     "text": [
      "A sonni kiriting:2\n",
      "A^2= 4 \n",
      "A^3= 8 \n",
      "A^= 32 \n",
      "A^10= 1024 \n",
      "A^15= 32768\n"
     ]
    }
   ],
   "source": [
    "# %load \"D:\\DATA PYTHON\\1-dars uyga vazifa\\28-topshiriq.py\"\n",
    "A=int(input(\"A sonni kiriting:\"))\n",
    "print(\"A^2=\",A**2,\"\\nA^3=\",A**3,\"\\nA^=\",A**5,\"\\nA^10=\",A**10,\"\\nA^15=\",A**15)"
   ]
  },
  {
   "cell_type": "markdown",
   "id": "79162340",
   "metadata": {},
   "source": [
    "## 29.a burchak gradusda berilgan (0<a <360). Berilgan burchakning qiymatini radianga o'tkazuvchi programma tuzilsin."
   ]
  },
  {
   "cell_type": "code",
   "execution_count": 84,
   "id": "e4096bab",
   "metadata": {},
   "outputs": [
    {
     "name": "stdout",
     "output_type": "stream",
     "text": [
      "Alfa burchakni kiriting:150\n",
      "Radianda: 2.6166666666666667\n"
     ]
    }
   ],
   "source": [
    "# %load \"D:\\DATA PYTHON\\1-dars uyga vazifa\\29-topshiriq.py\"\n",
    "a = int(input(\"Alfa burchakni kiriting:\"))\n",
    "print(\"Radianda:\",a/180*3.14)"
   ]
  },
  {
   "cell_type": "markdown",
   "id": "89fb51f0",
   "metadata": {},
   "source": [
    "## 30.a burchak radianda berilgan (0 < a< c) Berilgan burchakning qiymatini gradusga olkazuvchi programma tuzilsin. "
   ]
  },
  {
   "cell_type": "code",
   "execution_count": 95,
   "id": "df8052d4",
   "metadata": {},
   "outputs": [
    {
     "name": "stdout",
     "output_type": "stream",
     "text": [
      "Radianni kiriting:2\n",
      "Gradusda: 1130.4\n"
     ]
    }
   ],
   "source": [
    "# %load \"D:\\DATA PYTHON\\1-dars uyga vazifa\\30-topshiriq.py\"\n",
    "r = float(input(\"Radianni kiriting:\"))\n",
    "print(\"Gradusda:\",180*3.14*r)"
   ]
  },
  {
   "cell_type": "code",
   "execution_count": null,
   "id": "d747b5ea",
   "metadata": {},
   "outputs": [],
   "source": []
  }
 ],
 "metadata": {
  "kernelspec": {
   "display_name": "Python 3 (ipykernel)",
   "language": "python",
   "name": "python3"
  },
  "language_info": {
   "codemirror_mode": {
    "name": "ipython",
    "version": 3
   },
   "file_extension": ".py",
   "mimetype": "text/x-python",
   "name": "python",
   "nbconvert_exporter": "python",
   "pygments_lexer": "ipython3",
   "version": "3.9.7"
  }
 },
 "nbformat": 4,
 "nbformat_minor": 5
}
